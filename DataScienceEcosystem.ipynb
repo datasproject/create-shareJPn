{
 "cells": [
  {
   "cell_type": "markdown",
   "id": "2bb4a759",
   "metadata": {},
   "source": [
    "# Data Science Tools and Ecosystem"
   ]
  },
  {
   "cell_type": "markdown",
   "id": "e175afb8",
   "metadata": {},
   "source": [
    "## In this notebook, Data Science Tools and Ecosystem are summarized."
   ]
  },
  {
   "cell_type": "markdown",
   "id": "5131f38b",
   "metadata": {},
   "source": [
    "**Objetives**"
   ]
  },
  {
   "cell_type": "markdown",
   "id": "94648604",
   "metadata": {},
   "source": [
    "- Describe how to use the notebooks in JupyterLab.\n",
    "- Describe how to work in a notebook session.\n",
    "- Describe the basic Jupyter architecture.\n",
    "- Describe how to work with kernels.\n",
    "- Identify tools in Anaconda Jupyter environments."
   ]
  },
  {
   "cell_type": "markdown",
   "id": "4fd42b14",
   "metadata": {},
   "source": [
    "### Some of the popular languages that Data Scientists use are:"
   ]
  },
  {
   "cell_type": "markdown",
   "id": "c5431eb0",
   "metadata": {},
   "source": [
    "1. Python\n",
    "2. R\n",
    "3. C++"
   ]
  },
  {
   "cell_type": "markdown",
   "id": "c69ca8e4",
   "metadata": {},
   "source": [
    "### Some of the commonly used libraries used by Data Scientists include:"
   ]
  },
  {
   "cell_type": "markdown",
   "id": "5a7ad62f",
   "metadata": {},
   "source": [
    "1. TensorFlow.\n",
    "2. NumPy.\n",
    "3. SciPy.\n",
    "4. Pandas.\n",
    "5. Matplotlib."
   ]
  },
  {
   "cell_type": "markdown",
   "id": "3fe17d14",
   "metadata": {},
   "source": [
    "| Data Science Tools | \n",
    "| -------------|\n",
    "| Apache Hadoop |\n",
    "| Apache Spark | \n",
    "| KNIME |"
   ]
  },
  {
   "cell_type": "markdown",
   "id": "320f6af8",
   "metadata": {},
   "source": [
    "### Below are a few examples of evaluating arithmetic expressions in Python"
   ]
  },
  {
   "cell_type": "code",
   "execution_count": 2,
   "id": "8ebd24ed",
   "metadata": {},
   "outputs": [
    {
     "data": {
      "text/plain": [
       "17"
      ]
     },
     "execution_count": 2,
     "metadata": {},
     "output_type": "execute_result"
    }
   ],
   "source": [
    "# This a simple arithmetic expression to mutiply then add integers\n",
    "(3*4)+5"
   ]
  },
  {
   "cell_type": "code",
   "execution_count": 3,
   "id": "e9f33791",
   "metadata": {},
   "outputs": [
    {
     "data": {
      "text/plain": [
       "3.3333333333333335"
      ]
     },
     "execution_count": 3,
     "metadata": {},
     "output_type": "execute_result"
    }
   ],
   "source": [
    "# This will convert 200 minutes to hours by diving by 60\n",
    "200/60"
   ]
  },
  {
   "cell_type": "markdown",
   "id": "0ff8f32b",
   "metadata": {},
   "source": [
    "## Author\n",
    "Wilson Andres MAdrigal Vega"
   ]
  },
  {
   "cell_type": "code",
   "execution_count": null,
   "id": "3f4f4104",
   "metadata": {},
   "outputs": [],
   "source": []
  }
 ],
 "metadata": {
  "kernelspec": {
   "display_name": "Python 3 (ipykernel)",
   "language": "python",
   "name": "python3"
  },
  "language_info": {
   "codemirror_mode": {
    "name": "ipython",
    "version": 3
   },
   "file_extension": ".py",
   "mimetype": "text/x-python",
   "name": "python",
   "nbconvert_exporter": "python",
   "pygments_lexer": "ipython3",
   "version": "3.10.9"
  }
 },
 "nbformat": 4,
 "nbformat_minor": 5
}
